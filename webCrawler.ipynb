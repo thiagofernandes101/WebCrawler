{
 "cells": [
  {
   "cell_type": "markdown",
   "metadata": {},
   "source": [
    "**WebCrawler"
   ]
  },
  {
   "cell_type": "code",
   "execution_count": 104,
   "metadata": {},
   "outputs": [],
   "source": [
    "import requests\n",
    "from bs4 import BeautifulSoup"
   ]
  },
  {
   "cell_type": "code",
   "execution_count": 105,
   "metadata": {},
   "outputs": [],
   "source": [
    "def start(url):\n",
    " \n",
    "    wordlist = []\n",
    "    source_code = requests.get(url).text\n",
    " \n",
    "    soup = BeautifulSoup(source_code, 'html.parser')\n",
    " \n",
    "    for each_text in soup.findAll('div'):\n",
    "        content = each_text.text\n",
    "        \n",
    "        words = content.lower().split()\n",
    "        \n",
    "        for each_word in words:\n",
    "            wordlist.append(each_word)\n",
    "            \n",
    "    clean_wordlist(wordlist)"
   ]
  },
  {
   "cell_type": "code",
   "execution_count": 106,
   "metadata": {},
   "outputs": [],
   "source": [
    "def clean_wordlist(wordlist):\n",
    " \n",
    "    strWord =\"\"\n",
    "    clean_list = []\n",
    "    for word in wordlist:\n",
    "        symbols = \"!@#$%^&*()_-+={[}]|\\;:\\\"<>?/., \"\n",
    " \n",
    "        for i in range(len(symbols)):\n",
    "            word = word.replace(symbols[i], '')\n",
    " \n",
    "        if len(word) >= 8 and word not in clean_list:\n",
    "            clean_list.append(word)\n",
    "\n",
    "    for word in clean_list:\n",
    "        strWord += word + \"\\n\"\n",
    "\n",
    "    with open('readme.txt', 'w') as f:\n",
    "        f.write(strWord)\n",
    "        print(strWord)\n"
   ]
  },
  {
   "cell_type": "code",
   "execution_count": 107,
   "metadata": {},
   "outputs": [],
   "source": [
    "url = \"http://10.5.10.34\"\n",
    "start(url)"
   ]
  }
 ],
 "metadata": {
  "interpreter": {
   "hash": "b3ba2566441a7c06988d0923437866b63cedc61552a5af99d1f4fb67d367b25f"
  },
  "kernelspec": {
   "display_name": "Python 3.9.7 64-bit (system)",
   "language": "python",
   "name": "python3"
  },
  "language_info": {
   "codemirror_mode": {
    "name": "ipython",
    "version": 3
   },
   "file_extension": ".py",
   "mimetype": "text/x-python",
   "name": "python",
   "nbconvert_exporter": "python",
   "pygments_lexer": "ipython3",
   "version": "3.9.7"
  },
  "orig_nbformat": 4
 },
 "nbformat": 4,
 "nbformat_minor": 2
}
